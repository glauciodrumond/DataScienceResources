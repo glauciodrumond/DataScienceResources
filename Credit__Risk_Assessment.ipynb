{
  "nbformat": 4,
  "nbformat_minor": 0,
  "metadata": {
    "colab": {
      "name": "Credit_ Risk_Assessment.ipynb",
      "provenance": [],
      "collapsed_sections": [],
      "toc_visible": true,
      "authorship_tag": "ABX9TyN1UngRrTExDXj9NNpgJsFe",
      "include_colab_link": true
    },
    "kernelspec": {
      "name": "python3",
      "display_name": "Python 3"
    },
    "accelerator": "GPU"
  },
  "cells": [
    {
      "cell_type": "markdown",
      "metadata": {
        "id": "view-in-github",
        "colab_type": "text"
      },
      "source": [
        "<a href=\"https://colab.research.google.com/github/glauciodrumond/DataScienceResources/blob/master/Credit__Risk_Assessment.ipynb\" target=\"_parent\"><img src=\"https://colab.research.google.com/assets/colab-badge.svg\" alt=\"Open In Colab\"/></a>"
      ]
    },
    {
      "cell_type": "markdown",
      "metadata": {
        "id": "GM3jB1hQTQpj",
        "colab_type": "text"
      },
      "source": [
        "# Credit Risk Assessment\n",
        "\n",
        "How about not paying your credit card, loans ... in financial institutions?\n",
        "\n",
        "Well, this is what you can expect if you don't pay your debts in financial institutions:\n",
        "\n",
        "* pay late fees, \n",
        "* receive increased interest rates, and \n",
        "* incur damages to your credit score.\n",
        "\n",
        "So, if there is a field that gives banks and overall financial institutions more headaches, it is the default rate on the part of their client portfolio.\n",
        "\n",
        "Assessing whether a client or future client will fail to meet their financial obligations is extremely important, and can have a major impact on the Institution's balance sheet. Increasingly, solutions are being developed and improved in order to minimize the risk of *default*.\n",
        "\n",
        "In finance, *default* is failure to meet the legal obligations (or conditions) of a loan, for example when a home buyer fails to make a mortgage payment. Usually the main reason for non-compliance with payment terms is the client's financial incapacity.\n",
        "\n",
        "<p align=center>\n",
        "  <img src=\"http://sigmoidal.ai/wp-content/uploads/2019/10/2940191.jpg\" height=\"300px\">\n",
        "</p>\n",
        "\n",
        "Big banks, financial institutions and fintechs are increasingly using machine learning solutions to avoid or minimize the *default*.\n",
        "\n",
        "In Brazil, [Nubank](https://nubank.com.br/sobre-nos) is one of the biggest fintechs and has stood out in the use of *Artificial Intelligence* and *Data Science* teams.\n",
        "\n",
        "The data set to be used in this *Data Science* Project is part of a competition held by Startup [Nubank](https://nubank.com.br/sobre-nos) in order to reveal talent and potential hiring by Fintech.\n",
        "\n",
        "\n",
        "\n"
      ]
    },
    {
      "cell_type": "markdown",
      "metadata": {
        "id": "OIv45qbgiaUg",
        "colab_type": "text"
      },
      "source": [
        "# Business Problem\n",
        "\n",
        "In this problem, the objective is to predict how likely it is that a Startup Nubank customer will not meet their financial obligations and fail to pay their Credit Card bill.\n",
        "\n",
        "It is worth mentioning that this evaluation must be carried out at the moment the customer requests the card (usually at the first contact with the institution).\n",
        "\n",
        "<p align=center>\n",
        "<img src=\"http://sigmoidal.ai/wp-content/uploads/2019/10/Nubank_logo.png\" width=\"90px\"></p>\n",
        "\n",
        "\n",
        "\n",
        "> GOAL: Create a *Machine Learning* algorithm hat provides the likelihood that a customer will default.\n"
      ]
    },
    {
      "cell_type": "markdown",
      "metadata": {
        "id": "JU0K4UeMnrZ4",
        "colab_type": "text"
      },
      "source": [
        "# Importing the data\n",
        "\n",
        "The data that will be used in this project is available for download through [this link](http://dl.dropboxusercontent.com/s/xn2a4kzf0zer0xu/acquisition_train.csv?dl=0). It basically consists of a `csv` file containing 45,000 entries and 43 columns.\n",
        "\n",
        "This file will be imported into a *DataFrame* structure using the `pandas` library in order to allow its manipulation and analysis.\n",
        "\n"
      ]
    },
    {
      "cell_type": "code",
      "metadata": {
        "id": "Sv7ZceoffuEb",
        "colab_type": "code",
        "outputId": "2d6de942-946a-4655-fbed-5356afcc85e2",
        "colab": {
          "base_uri": "https://localhost:8080/",
          "height": 71
        }
      },
      "source": [
        "# import libraries\n",
        "import pandas as pd\n",
        "import numpy as np\n",
        "import matplotlib.pyplot as plt\n",
        "import seaborn as sns\n",
        "\n",
        "# filter warning message\n",
        "import warnings\n",
        "warnings.filterwarnings('ignore')"
      ],
      "execution_count": 1,
      "outputs": [
        {
          "output_type": "stream",
          "text": [
            "/usr/local/lib/python3.6/dist-packages/statsmodels/tools/_testing.py:19: FutureWarning: pandas.util.testing is deprecated. Use the functions in the public API at pandas.testing instead.\n",
            "  import pandas.util.testing as tm\n"
          ],
          "name": "stderr"
        }
      ]
    },
    {
      "cell_type": "code",
      "metadata": {
        "id": "_Y9cQGjQlNF7",
        "colab_type": "code",
        "colab": {}
      },
      "source": [
        "# load our data in a pandas dataframe\n",
        "url = \"http://dl.dropboxusercontent.com/s/xn2a4kzf0zer0xu/acquisition_train.csv?dl=0\"\n",
        "df = pd.read_csv(url)"
      ],
      "execution_count": 0,
      "outputs": []
    },
    {
      "cell_type": "markdown",
      "metadata": {
        "id": "BfVP9OmcO4HY",
        "colab_type": "text"
      },
      "source": [
        "# Exploratory Analysis\n"
      ]
    },
    {
      "cell_type": "markdown",
      "metadata": {
        "id": "WIZQ2UJDGyK-",
        "colab_type": "text"
      },
      "source": [
        "## First impressions\n",
        "\n",
        "First steps to get to know our data is doing an exploratory analysis. We are going to check:\n",
        "\n",
        "*  How many rows(entries) and columns (variables) our dataframe has using the attribute `.shape`\n",
        "*  Check the data type of each columns using the function `.dtypes`\n",
        "*  Also after this first two steps we are going to see or dataframe first five entries "
      ]
    },
    {
      "cell_type": "code",
      "metadata": {
        "id": "cLrg07GkgzKW",
        "colab_type": "code",
        "outputId": "7c49ed19-598a-4d7c-880f-55f715b2a302",
        "colab": {
          "base_uri": "https://localhost:8080/",
          "height": 850
        }
      },
      "source": [
        "# dataframe shape\n",
        "print('Dataframe shape')\n",
        "print('Rows:',df.shape[0])\n",
        "print('Columns:',df.shape[1])\n",
        "\n",
        "# show dataframe first 5 rows\n",
        "print('\\nVariables type:')\n",
        "print(df.dtypes)"
      ],
      "execution_count": 3,
      "outputs": [
        {
          "output_type": "stream",
          "text": [
            "Dataframe shape\n",
            "Rows: 45000\n",
            "Columns: 43\n",
            "\n",
            "Variables type:\n",
            "ids                                                  object\n",
            "target_default                                       object\n",
            "score_1                                              object\n",
            "score_2                                              object\n",
            "score_3                                             float64\n",
            "score_4                                             float64\n",
            "score_5                                             float64\n",
            "score_6                                             float64\n",
            "risk_rate                                           float64\n",
            "last_amount_borrowed                                float64\n",
            "last_borrowed_in_months                             float64\n",
            "credit_limit                                        float64\n",
            "reason                                               object\n",
            "income                                              float64\n",
            "facebook_profile                                     object\n",
            "state                                                object\n",
            "zip                                                  object\n",
            "channel                                              object\n",
            "job_name                                             object\n",
            "real_state                                           object\n",
            "ok_since                                            float64\n",
            "n_bankruptcies                                      float64\n",
            "n_defaulted_loans                                   float64\n",
            "n_accounts                                          float64\n",
            "n_issues                                            float64\n",
            "application_time_applied                             object\n",
            "application_time_in_funnel                            int64\n",
            "email                                                object\n",
            "external_data_provider_credit_checks_last_2_year    float64\n",
            "external_data_provider_credit_checks_last_month       int64\n",
            "external_data_provider_credit_checks_last_year      float64\n",
            "external_data_provider_email_seen_before            float64\n",
            "external_data_provider_first_name                    object\n",
            "external_data_provider_fraud_score                    int64\n",
            "lat_lon                                              object\n",
            "marketing_channel                                    object\n",
            "profile_phone_number                                 object\n",
            "reported_income                                     float64\n",
            "shipping_state                                       object\n",
            "shipping_zip_code                                     int64\n",
            "profile_tags                                         object\n",
            "user_agent                                           object\n",
            "target_fraud                                         object\n",
            "dtype: object\n"
          ],
          "name": "stdout"
        }
      ]
    },
    {
      "cell_type": "code",
      "metadata": {
        "id": "-7EukL7-ivne",
        "colab_type": "code",
        "outputId": "fbdd371a-2080-4bb3-b72e-c32bb39f8820",
        "colab": {
          "base_uri": "https://localhost:8080/",
          "height": 615
        }
      },
      "source": [
        "# dataframe first entries\n",
        "df.head()"
      ],
      "execution_count": 4,
      "outputs": [
        {
          "output_type": "execute_result",
          "data": {
            "text/html": [
              "<div>\n",
              "<style scoped>\n",
              "    .dataframe tbody tr th:only-of-type {\n",
              "        vertical-align: middle;\n",
              "    }\n",
              "\n",
              "    .dataframe tbody tr th {\n",
              "        vertical-align: top;\n",
              "    }\n",
              "\n",
              "    .dataframe thead th {\n",
              "        text-align: right;\n",
              "    }\n",
              "</style>\n",
              "<table border=\"1\" class=\"dataframe\">\n",
              "  <thead>\n",
              "    <tr style=\"text-align: right;\">\n",
              "      <th></th>\n",
              "      <th>ids</th>\n",
              "      <th>target_default</th>\n",
              "      <th>score_1</th>\n",
              "      <th>score_2</th>\n",
              "      <th>score_3</th>\n",
              "      <th>score_4</th>\n",
              "      <th>score_5</th>\n",
              "      <th>score_6</th>\n",
              "      <th>risk_rate</th>\n",
              "      <th>last_amount_borrowed</th>\n",
              "      <th>last_borrowed_in_months</th>\n",
              "      <th>credit_limit</th>\n",
              "      <th>reason</th>\n",
              "      <th>income</th>\n",
              "      <th>facebook_profile</th>\n",
              "      <th>state</th>\n",
              "      <th>zip</th>\n",
              "      <th>channel</th>\n",
              "      <th>job_name</th>\n",
              "      <th>real_state</th>\n",
              "      <th>ok_since</th>\n",
              "      <th>n_bankruptcies</th>\n",
              "      <th>n_defaulted_loans</th>\n",
              "      <th>n_accounts</th>\n",
              "      <th>n_issues</th>\n",
              "      <th>application_time_applied</th>\n",
              "      <th>application_time_in_funnel</th>\n",
              "      <th>email</th>\n",
              "      <th>external_data_provider_credit_checks_last_2_year</th>\n",
              "      <th>external_data_provider_credit_checks_last_month</th>\n",
              "      <th>external_data_provider_credit_checks_last_year</th>\n",
              "      <th>external_data_provider_email_seen_before</th>\n",
              "      <th>external_data_provider_first_name</th>\n",
              "      <th>external_data_provider_fraud_score</th>\n",
              "      <th>lat_lon</th>\n",
              "      <th>marketing_channel</th>\n",
              "      <th>profile_phone_number</th>\n",
              "      <th>reported_income</th>\n",
              "      <th>shipping_state</th>\n",
              "      <th>shipping_zip_code</th>\n",
              "      <th>profile_tags</th>\n",
              "      <th>user_agent</th>\n",
              "      <th>target_fraud</th>\n",
              "    </tr>\n",
              "  </thead>\n",
              "  <tbody>\n",
              "    <tr>\n",
              "      <th>0</th>\n",
              "      <td>343b7e7b-2cf8-e508-b8fd-0a0285af30aa</td>\n",
              "      <td>False</td>\n",
              "      <td>1Rk8w4Ucd5yR3KcqZzLdow==</td>\n",
              "      <td>IOVu8au3ISbo6+zmfnYwMg==</td>\n",
              "      <td>350.0</td>\n",
              "      <td>101.800832</td>\n",
              "      <td>0.259555</td>\n",
              "      <td>108.427273</td>\n",
              "      <td>0.40</td>\n",
              "      <td>25033.92</td>\n",
              "      <td>36.0</td>\n",
              "      <td>0.0</td>\n",
              "      <td>mLVIVxoGY7TUDJ1FyFoSIZi1SFcaBmO01AydRchaEiGYtU...</td>\n",
              "      <td>65014.12</td>\n",
              "      <td>True</td>\n",
              "      <td>sjJbkqJS7cXalHLBFA+EOQ==</td>\n",
              "      <td>Ernn+uVXCMq/6ARrBCcd+A==</td>\n",
              "      <td>NCqL3QBx0pscDnx3ixKwXg==</td>\n",
              "      <td>mLVIVxoGY7TUDJ1FyFoSIZi1SFcaBmO01AydRchaEiGYtU...</td>\n",
              "      <td>N5/CE7lSkAfB04hVFFwllw==</td>\n",
              "      <td>NaN</td>\n",
              "      <td>0.0</td>\n",
              "      <td>0.0</td>\n",
              "      <td>18.0</td>\n",
              "      <td>18.0</td>\n",
              "      <td>07:52:34</td>\n",
              "      <td>444</td>\n",
              "      <td>outlook.com</td>\n",
              "      <td>NaN</td>\n",
              "      <td>2</td>\n",
              "      <td>0.0</td>\n",
              "      <td>51.0</td>\n",
              "      <td>leidelaura</td>\n",
              "      <td>645</td>\n",
              "      <td>(-29.151545708122246, -51.1386461804385)</td>\n",
              "      <td>Invite-email</td>\n",
              "      <td>514-9840782</td>\n",
              "      <td>57849.0</td>\n",
              "      <td>BR-MT</td>\n",
              "      <td>17528</td>\n",
              "      <td>{'tags': ['n19', 'n8']}</td>\n",
              "      <td>Mozilla/5.0 (Linux; Android 6.0.1; SGP771 Buil...</td>\n",
              "      <td>NaN</td>\n",
              "    </tr>\n",
              "    <tr>\n",
              "      <th>1</th>\n",
              "      <td>bc2c7502-bbad-0f8c-39c3-94e881967124</td>\n",
              "      <td>False</td>\n",
              "      <td>DGCQep2AE5QRkNCshIAlFQ==</td>\n",
              "      <td>SaamrHMo23l/3TwXOWgVzw==</td>\n",
              "      <td>370.0</td>\n",
              "      <td>97.062615</td>\n",
              "      <td>0.942655</td>\n",
              "      <td>92.002546</td>\n",
              "      <td>0.24</td>\n",
              "      <td>NaN</td>\n",
              "      <td>NaN</td>\n",
              "      <td>39726.0</td>\n",
              "      <td>mLVIVxoGY7TUDJ1FyFoSIZi1SFcaBmO01AydRchaEiGYtU...</td>\n",
              "      <td>100018.91</td>\n",
              "      <td>False</td>\n",
              "      <td>xsd3ZdsI3356I3xMxZeiqQ==</td>\n",
              "      <td>rlWIXTBO+VOa34+SpGyhlQ==</td>\n",
              "      <td>NCqL3QBx0pscDnx3ixKwXg==</td>\n",
              "      <td>mLVIVxoGY7TUDJ1FyFoSIZi1SFcaBmO01AydRchaEiGYtU...</td>\n",
              "      <td>N5/CE7lSkAfB04hVFFwllw==</td>\n",
              "      <td>50.0</td>\n",
              "      <td>0.0</td>\n",
              "      <td>0.0</td>\n",
              "      <td>14.0</td>\n",
              "      <td>14.0</td>\n",
              "      <td>02:34:29</td>\n",
              "      <td>346</td>\n",
              "      <td>gmail.com</td>\n",
              "      <td>0.0</td>\n",
              "      <td>1</td>\n",
              "      <td>0.0</td>\n",
              "      <td>17.0</td>\n",
              "      <td>diocezio</td>\n",
              "      <td>243</td>\n",
              "      <td>(-19.687710705798963, -47.94151536525154)</td>\n",
              "      <td>Radio-commercial</td>\n",
              "      <td>251-3659293</td>\n",
              "      <td>4902.0</td>\n",
              "      <td>BR-RS</td>\n",
              "      <td>40933</td>\n",
              "      <td>{'tags': ['n6', 'n7', 'nim']}</td>\n",
              "      <td>Mozilla/5.0 (Linux; Android 5.0.2; SAMSUNG SM-...</td>\n",
              "      <td>NaN</td>\n",
              "    </tr>\n",
              "    <tr>\n",
              "      <th>2</th>\n",
              "      <td>669630dd-2e6a-0396-84bf-455e5009c922</td>\n",
              "      <td>True</td>\n",
              "      <td>DGCQep2AE5QRkNCshIAlFQ==</td>\n",
              "      <td>Fv28Bz0YRTVAT5kl1bAV6g==</td>\n",
              "      <td>360.0</td>\n",
              "      <td>100.027073</td>\n",
              "      <td>0.351918</td>\n",
              "      <td>112.892453</td>\n",
              "      <td>0.29</td>\n",
              "      <td>7207.92</td>\n",
              "      <td>36.0</td>\n",
              "      <td>NaN</td>\n",
              "      <td>mLVIVxoGY7TUDJ1FyFoSIZi1SFcaBmO01AydRchaEiGYtU...</td>\n",
              "      <td>65023.65</td>\n",
              "      <td>NaN</td>\n",
              "      <td>Ygq6MsM98oC8yceExr69Ig==</td>\n",
              "      <td>PjTIDfJsK0DKL9fO7vuW2g==</td>\n",
              "      <td>NCqL3QBx0pscDnx3ixKwXg==</td>\n",
              "      <td>mLVIVxoGY7TUDJ1FyFoSIZi1SFcaBmO01AydRchaEiGYtU...</td>\n",
              "      <td>n+xK9CfX0bCn77lClTWviw==</td>\n",
              "      <td>NaN</td>\n",
              "      <td>0.0</td>\n",
              "      <td>0.0</td>\n",
              "      <td>10.0</td>\n",
              "      <td>NaN</td>\n",
              "      <td>00:60:02</td>\n",
              "      <td>6</td>\n",
              "      <td>gmail.com</td>\n",
              "      <td>NaN</td>\n",
              "      <td>2</td>\n",
              "      <td>NaN</td>\n",
              "      <td>9.0</td>\n",
              "      <td>veralucia</td>\n",
              "      <td>65</td>\n",
              "      <td>(-28.748023890412284, -51.867279334353995)</td>\n",
              "      <td>Waiting-list</td>\n",
              "      <td>230-6097993</td>\n",
              "      <td>163679.0</td>\n",
              "      <td>BR-RR</td>\n",
              "      <td>50985</td>\n",
              "      <td>{'tags': ['n0', 'n17', 'nim', 'da']}</td>\n",
              "      <td>Mozilla/5.0 (Linux; Android 6.0.1; SGP771 Buil...</td>\n",
              "      <td>NaN</td>\n",
              "    </tr>\n",
              "    <tr>\n",
              "      <th>3</th>\n",
              "      <td>d235609e-b6cb-0ccc-a329-d4f12e7ebdc1</td>\n",
              "      <td>False</td>\n",
              "      <td>1Rk8w4Ucd5yR3KcqZzLdow==</td>\n",
              "      <td>dCm9hFKfdRm7ej3jW+gyxw==</td>\n",
              "      <td>510.0</td>\n",
              "      <td>101.599485</td>\n",
              "      <td>0.987673</td>\n",
              "      <td>94.902491</td>\n",
              "      <td>0.32</td>\n",
              "      <td>NaN</td>\n",
              "      <td>NaN</td>\n",
              "      <td>54591.0</td>\n",
              "      <td>mLVIVxoGY7TUDJ1FyFoSIZi1SFcaBmO01AydRchaEiGYtU...</td>\n",
              "      <td>68830.01</td>\n",
              "      <td>False</td>\n",
              "      <td>KET/Pmr6rHp1RJ/P9ymztw==</td>\n",
              "      <td>Cc/kWDLQH3dpHv5HU+pLVA==</td>\n",
              "      <td>NCqL3QBx0pscDnx3ixKwXg==</td>\n",
              "      <td>mLVIVxoGY7TUDJ1FyFoSIZi1SFcaBmO01AydRchaEiE56f...</td>\n",
              "      <td>n+xK9CfX0bCn77lClTWviw==</td>\n",
              "      <td>NaN</td>\n",
              "      <td>1.0</td>\n",
              "      <td>0.0</td>\n",
              "      <td>19.0</td>\n",
              "      <td>19.0</td>\n",
              "      <td>11:20:49</td>\n",
              "      <td>406</td>\n",
              "      <td>spgov.com</td>\n",
              "      <td>NaN</td>\n",
              "      <td>3</td>\n",
              "      <td>NaN</td>\n",
              "      <td>38.0</td>\n",
              "      <td>venice</td>\n",
              "      <td>815</td>\n",
              "      <td>(-17.520650158450454, -39.75801139933186)</td>\n",
              "      <td>Waiting-list</td>\n",
              "      <td>261-3543751</td>\n",
              "      <td>1086.0</td>\n",
              "      <td>BR-RN</td>\n",
              "      <td>37825</td>\n",
              "      <td>{'tags': ['n4']}</td>\n",
              "      <td>Mozilla/5.0 (Linux; Android 6.0; HTC One X10 B...</td>\n",
              "      <td>NaN</td>\n",
              "    </tr>\n",
              "    <tr>\n",
              "      <th>4</th>\n",
              "      <td>9e0eb880-e8f4-3faa-67d8-f5cdd2b3932b</td>\n",
              "      <td>False</td>\n",
              "      <td>8k8UDR4Yx0qasAjkGrUZLw==</td>\n",
              "      <td>+CxEO4w7jv3QPI/BQbyqAA==</td>\n",
              "      <td>500.0</td>\n",
              "      <td>98.474289</td>\n",
              "      <td>0.532539</td>\n",
              "      <td>118.126207</td>\n",
              "      <td>0.18</td>\n",
              "      <td>NaN</td>\n",
              "      <td>NaN</td>\n",
              "      <td>NaN</td>\n",
              "      <td>mLVIVxoGY7TUDJ1FyFoSIZi1SFcaBmO01AydRchaEiGYtU...</td>\n",
              "      <td>60011.29</td>\n",
              "      <td>True</td>\n",
              "      <td>xsd3ZdsI3356I3xMxZeiqQ==</td>\n",
              "      <td>i036nmJ7rfxo+3EvCD7Jnw==</td>\n",
              "      <td>NCqL3QBx0pscDnx3ixKwXg==</td>\n",
              "      <td>mLVIVxoGY7TUDJ1FyFoSIZi1SFcaBmO01AydRchaEiGYtU...</td>\n",
              "      <td>n+xK9CfX0bCn77lClTWviw==</td>\n",
              "      <td>NaN</td>\n",
              "      <td>0.0</td>\n",
              "      <td>0.0</td>\n",
              "      <td>11.0</td>\n",
              "      <td>NaN</td>\n",
              "      <td>13:39:03</td>\n",
              "      <td>240</td>\n",
              "      <td>gmail.com</td>\n",
              "      <td>0.0</td>\n",
              "      <td>2</td>\n",
              "      <td>1.0</td>\n",
              "      <td>46.0</td>\n",
              "      <td>darzisa</td>\n",
              "      <td>320</td>\n",
              "      <td>(-16.574259446978008, -39.90990074785962)</td>\n",
              "      <td>Invite-email</td>\n",
              "      <td>102-3660162</td>\n",
              "      <td>198618.0</td>\n",
              "      <td>BR-MT</td>\n",
              "      <td>52827</td>\n",
              "      <td>{'tags': ['pro+aty', 'n19', 'da', 'b19']}</td>\n",
              "      <td>Mozilla/5.0 (Linux; Android 7.0; Pixel C Build...</td>\n",
              "      <td>NaN</td>\n",
              "    </tr>\n",
              "  </tbody>\n",
              "</table>\n",
              "</div>"
            ],
            "text/plain": [
              "                                    ids  ... target_fraud\n",
              "0  343b7e7b-2cf8-e508-b8fd-0a0285af30aa  ...          NaN\n",
              "1  bc2c7502-bbad-0f8c-39c3-94e881967124  ...          NaN\n",
              "2  669630dd-2e6a-0396-84bf-455e5009c922  ...          NaN\n",
              "3  d235609e-b6cb-0ccc-a329-d4f12e7ebdc1  ...          NaN\n",
              "4  9e0eb880-e8f4-3faa-67d8-f5cdd2b3932b  ...          NaN\n",
              "\n",
              "[5 rows x 43 columns]"
            ]
          },
          "metadata": {
            "tags": []
          },
          "execution_count": 4
        }
      ]
    },
    {
      "cell_type": "markdown",
      "metadata": {
        "id": "GOQzp-skGsjz",
        "colab_type": "text"
      },
      "source": [
        "> **These are our first impressions in our dataset:**\n",
        "\n",
        "* The first column in our dataframe is `ids`. So for each customer there is a diferent id.\n",
        "\n",
        "* The variables `score_1` and `score_2` are objects, the others score are float\n",
        "\n",
        "* We have two variables called target: `target_default` and `target_fraud`. Ahead we will inspect these columns to see what they are really about.\n",
        "\n",
        "* Some columns coded such as: `zip`, `state`, `channel` and others. We will probably remove these columns.\n",
        "\n",
        "* `lat_lon` column is a format object contain a tuple with coordenates, we will later on crete a column for each if necessary.\n",
        "\n",
        "* The column `profile_tags` is a dictionary."
      ]
    },
    {
      "cell_type": "markdown",
      "metadata": {
        "id": "jwzacIpfPX6S",
        "colab_type": "text"
      },
      "source": [
        "## Closer look\n",
        "\n",
        "Now we are going to have a closer look in our dataset checking:\n",
        "\n",
        "* How much missing data each column have\n",
        "\n",
        "* Statistical summary of the dataset\n",
        "\n"
      ]
    },
    {
      "cell_type": "code",
      "metadata": {
        "id": "XB8JlAS1PUOP",
        "colab_type": "code",
        "outputId": "125ddaa2-07f2-4d12-daa3-349480f456d5",
        "colab": {
          "base_uri": "https://localhost:8080/",
          "height": 799
        }
      },
      "source": [
        "# Percent null values\n",
        "print(\"\\nPercent of missing values:\")\n",
        "print((df.isnull().sum() / df.shape[0]).sort_values(ascending=False))"
      ],
      "execution_count": 5,
      "outputs": [
        {
          "output_type": "stream",
          "text": [
            "\n",
            "Percent of missing values:\n",
            "target_fraud                                        0.966178\n",
            "last_amount_borrowed                                0.665689\n",
            "last_borrowed_in_months                             0.665689\n",
            "ok_since                                            0.589889\n",
            "external_data_provider_credit_checks_last_2_year    0.502844\n",
            "external_data_provider_credit_checks_last_year      0.336089\n",
            "credit_limit                                        0.306667\n",
            "n_issues                                            0.256533\n",
            "facebook_profile                                    0.099067\n",
            "marketing_channel                                   0.079511\n",
            "job_name                                            0.074133\n",
            "target_default                                      0.072422\n",
            "external_data_provider_email_seen_before            0.049622\n",
            "lat_lon                                             0.030289\n",
            "user_agent                                          0.016044\n",
            "n_bankruptcies                                      0.015489\n",
            "n_defaulted_loans                                   0.012756\n",
            "reason                                              0.012578\n",
            "income                                              0.012489\n",
            "real_state                                          0.012489\n",
            "state                                               0.012489\n",
            "zip                                                 0.012489\n",
            "channel                                             0.012489\n",
            "score_3                                             0.012489\n",
            "score_2                                             0.012489\n",
            "score_1                                             0.012489\n",
            "n_accounts                                          0.012489\n",
            "risk_rate                                           0.012489\n",
            "shipping_zip_code                                   0.000000\n",
            "score_4                                             0.000000\n",
            "score_5                                             0.000000\n",
            "profile_tags                                        0.000000\n",
            "score_6                                             0.000000\n",
            "application_time_in_funnel                          0.000000\n",
            "shipping_state                                      0.000000\n",
            "reported_income                                     0.000000\n",
            "application_time_applied                            0.000000\n",
            "profile_phone_number                                0.000000\n",
            "external_data_provider_fraud_score                  0.000000\n",
            "external_data_provider_first_name                   0.000000\n",
            "external_data_provider_credit_checks_last_month     0.000000\n",
            "email                                               0.000000\n",
            "ids                                                 0.000000\n",
            "dtype: float64\n"
          ],
          "name": "stdout"
        }
      ]
    },
    {
      "cell_type": "markdown",
      "metadata": {
        "id": "HOoYuV3sQwe3",
        "colab_type": "text"
      },
      "source": [
        "### Missing values\n",
        "\n",
        "Ok there is a lot of missing data in our dataset, but look the column that has more missing data (yes, you are right that one on top!) with about 97% missing data:  `target_fraud`\n",
        "\n",
        "Well, in the beginning we could think that `target_fraud` was our target variable, but that seems that it is not. Checking this column entries, we can confirm that `target_fraud` is not our variable target. \n",
        "\n",
        "Also some columns such as `['last_amount_borrowed', 'last_borrowed_in_months', 'ok_since', 'external_data_provider_credit_checks_last_2_year']` has more than 50% of missing data."
      ]
    },
    {
      "cell_type": "code",
      "metadata": {
        "id": "erRM7xvQrlfe",
        "colab_type": "code",
        "outputId": "a1daa7c2-9449-4f2e-a5ed-e9a5f68fd1f2",
        "colab": {
          "base_uri": "https://localhost:8080/",
          "height": 102
        }
      },
      "source": [
        "# Checking target_fraud column\n",
        "print('\\ntarget_fraud column:')\n",
        "print(df.target_fraud.value_counts())"
      ],
      "execution_count": 6,
      "outputs": [
        {
          "output_type": "stream",
          "text": [
            "\n",
            "target_fraud column:\n",
            "fraud_friends_family    904\n",
            "fraud_id                618\n",
            "Name: target_fraud, dtype: int64\n"
          ],
          "name": "stdout"
        }
      ]
    },
    {
      "cell_type": "markdown",
      "metadata": {
        "id": "e3b-eWOMUd8T",
        "colab_type": "text"
      },
      "source": [
        "### Summary statistics\n",
        "\n",
        "* `risk_rate` seems to range from 0 to 1, and 75% of the data is below 0.36 and mean is about 0.3\n",
        "\n",
        "* `external_data_provider_credit_checks_last_2_year` all entries when not null is zero, bringing no information.\n",
        "\n",
        "* `reported_income` has entries with **inf** that can interfere in our ML model, so we are going to change `np.inf` to `np.NaN`\n",
        "\n",
        "* `external_data_provider_email_seen_before` has a strange min value of -999.0, considering the other values. That can be caused by a wrong entry or treated wrong. So we are going to change that value to `np.NaN`"
      ]
    },
    {
      "cell_type": "code",
      "metadata": {
        "id": "4t2PFCJwvRUV",
        "colab_type": "code",
        "outputId": "bcc5dd1c-ce1b-4781-e7dd-bbebed0f8a3b",
        "colab": {
          "base_uri": "https://localhost:8080/",
          "height": 317
        }
      },
      "source": [
        "#Summary statistics\n",
        "df.describe()"
      ],
      "execution_count": 7,
      "outputs": [
        {
          "output_type": "execute_result",
          "data": {
            "text/html": [
              "<div>\n",
              "<style scoped>\n",
              "    .dataframe tbody tr th:only-of-type {\n",
              "        vertical-align: middle;\n",
              "    }\n",
              "\n",
              "    .dataframe tbody tr th {\n",
              "        vertical-align: top;\n",
              "    }\n",
              "\n",
              "    .dataframe thead th {\n",
              "        text-align: right;\n",
              "    }\n",
              "</style>\n",
              "<table border=\"1\" class=\"dataframe\">\n",
              "  <thead>\n",
              "    <tr style=\"text-align: right;\">\n",
              "      <th></th>\n",
              "      <th>score_3</th>\n",
              "      <th>score_4</th>\n",
              "      <th>score_5</th>\n",
              "      <th>score_6</th>\n",
              "      <th>risk_rate</th>\n",
              "      <th>last_amount_borrowed</th>\n",
              "      <th>last_borrowed_in_months</th>\n",
              "      <th>credit_limit</th>\n",
              "      <th>income</th>\n",
              "      <th>ok_since</th>\n",
              "      <th>n_bankruptcies</th>\n",
              "      <th>n_defaulted_loans</th>\n",
              "      <th>n_accounts</th>\n",
              "      <th>n_issues</th>\n",
              "      <th>application_time_in_funnel</th>\n",
              "      <th>external_data_provider_credit_checks_last_2_year</th>\n",
              "      <th>external_data_provider_credit_checks_last_month</th>\n",
              "      <th>external_data_provider_credit_checks_last_year</th>\n",
              "      <th>external_data_provider_email_seen_before</th>\n",
              "      <th>external_data_provider_fraud_score</th>\n",
              "      <th>reported_income</th>\n",
              "      <th>shipping_zip_code</th>\n",
              "    </tr>\n",
              "  </thead>\n",
              "  <tbody>\n",
              "    <tr>\n",
              "      <th>count</th>\n",
              "      <td>44438.000000</td>\n",
              "      <td>45000.000000</td>\n",
              "      <td>45000.000000</td>\n",
              "      <td>45000.000000</td>\n",
              "      <td>44438.000000</td>\n",
              "      <td>15044.000000</td>\n",
              "      <td>15044.000000</td>\n",
              "      <td>31200.000000</td>\n",
              "      <td>4.443800e+04</td>\n",
              "      <td>18455.000000</td>\n",
              "      <td>44303.000000</td>\n",
              "      <td>44426.000000</td>\n",
              "      <td>44438.000000</td>\n",
              "      <td>33456.000000</td>\n",
              "      <td>45000.000000</td>\n",
              "      <td>22372.0</td>\n",
              "      <td>45000.000000</td>\n",
              "      <td>29876.000000</td>\n",
              "      <td>42767.000000</td>\n",
              "      <td>45000.000000</td>\n",
              "      <td>45000.00</td>\n",
              "      <td>45000.000000</td>\n",
              "    </tr>\n",
              "    <tr>\n",
              "      <th>mean</th>\n",
              "      <td>347.983258</td>\n",
              "      <td>100.006797</td>\n",
              "      <td>0.500037</td>\n",
              "      <td>99.925228</td>\n",
              "      <td>0.296717</td>\n",
              "      <td>13782.341991</td>\n",
              "      <td>41.763893</td>\n",
              "      <td>34381.951154</td>\n",
              "      <td>7.160739e+04</td>\n",
              "      <td>35.069737</td>\n",
              "      <td>0.076270</td>\n",
              "      <td>0.004569</td>\n",
              "      <td>10.696701</td>\n",
              "      <td>11.068119</td>\n",
              "      <td>247.537000</td>\n",
              "      <td>0.0</td>\n",
              "      <td>1.501067</td>\n",
              "      <td>0.503381</td>\n",
              "      <td>12.534781</td>\n",
              "      <td>500.399800</td>\n",
              "      <td>inf</td>\n",
              "      <td>33923.514844</td>\n",
              "    </tr>\n",
              "    <tr>\n",
              "      <th>std</th>\n",
              "      <td>110.429165</td>\n",
              "      <td>3.178080</td>\n",
              "      <td>0.288326</td>\n",
              "      <td>10.016549</td>\n",
              "      <td>0.101933</td>\n",
              "      <td>8077.571933</td>\n",
              "      <td>10.252705</td>\n",
              "      <td>36586.982218</td>\n",
              "      <td>5.185897e+04</td>\n",
              "      <td>21.663194</td>\n",
              "      <td>0.274052</td>\n",
              "      <td>0.079400</td>\n",
              "      <td>4.592463</td>\n",
              "      <td>4.595501</td>\n",
              "      <td>146.118398</td>\n",
              "      <td>0.0</td>\n",
              "      <td>1.114941</td>\n",
              "      <td>0.499997</td>\n",
              "      <td>126.530487</td>\n",
              "      <td>287.968873</td>\n",
              "      <td>NaN</td>\n",
              "      <td>12692.406382</td>\n",
              "    </tr>\n",
              "    <tr>\n",
              "      <th>min</th>\n",
              "      <td>0.000000</td>\n",
              "      <td>86.191572</td>\n",
              "      <td>0.000035</td>\n",
              "      <td>60.663039</td>\n",
              "      <td>0.000000</td>\n",
              "      <td>1005.180000</td>\n",
              "      <td>36.000000</td>\n",
              "      <td>0.000000</td>\n",
              "      <td>4.821180e+03</td>\n",
              "      <td>0.000000</td>\n",
              "      <td>0.000000</td>\n",
              "      <td>0.000000</td>\n",
              "      <td>0.000000</td>\n",
              "      <td>0.000000</td>\n",
              "      <td>0.000000</td>\n",
              "      <td>0.0</td>\n",
              "      <td>0.000000</td>\n",
              "      <td>0.000000</td>\n",
              "      <td>-999.000000</td>\n",
              "      <td>0.000000</td>\n",
              "      <td>403.00</td>\n",
              "      <td>12001.000000</td>\n",
              "    </tr>\n",
              "    <tr>\n",
              "      <th>25%</th>\n",
              "      <td>270.000000</td>\n",
              "      <td>97.867036</td>\n",
              "      <td>0.252150</td>\n",
              "      <td>93.198353</td>\n",
              "      <td>0.220000</td>\n",
              "      <td>7519.502500</td>\n",
              "      <td>36.000000</td>\n",
              "      <td>10000.000000</td>\n",
              "      <td>4.501078e+04</td>\n",
              "      <td>17.000000</td>\n",
              "      <td>0.000000</td>\n",
              "      <td>0.000000</td>\n",
              "      <td>7.000000</td>\n",
              "      <td>8.000000</td>\n",
              "      <td>120.000000</td>\n",
              "      <td>0.0</td>\n",
              "      <td>1.000000</td>\n",
              "      <td>0.000000</td>\n",
              "      <td>11.000000</td>\n",
              "      <td>252.000000</td>\n",
              "      <td>50948.25</td>\n",
              "      <td>22937.000000</td>\n",
              "    </tr>\n",
              "    <tr>\n",
              "      <th>50%</th>\n",
              "      <td>340.000000</td>\n",
              "      <td>100.018900</td>\n",
              "      <td>0.500753</td>\n",
              "      <td>99.974796</td>\n",
              "      <td>0.290000</td>\n",
              "      <td>12023.465000</td>\n",
              "      <td>36.000000</td>\n",
              "      <td>25647.000000</td>\n",
              "      <td>6.126676e+04</td>\n",
              "      <td>32.000000</td>\n",
              "      <td>0.000000</td>\n",
              "      <td>0.000000</td>\n",
              "      <td>10.000000</td>\n",
              "      <td>10.000000</td>\n",
              "      <td>248.000000</td>\n",
              "      <td>0.0</td>\n",
              "      <td>2.000000</td>\n",
              "      <td>1.000000</td>\n",
              "      <td>27.000000</td>\n",
              "      <td>503.000000</td>\n",
              "      <td>101779.00</td>\n",
              "      <td>33896.000000</td>\n",
              "    </tr>\n",
              "    <tr>\n",
              "      <th>75%</th>\n",
              "      <td>420.000000</td>\n",
              "      <td>102.141797</td>\n",
              "      <td>0.748816</td>\n",
              "      <td>106.640275</td>\n",
              "      <td>0.360000</td>\n",
              "      <td>19220.270000</td>\n",
              "      <td>36.000000</td>\n",
              "      <td>47086.750000</td>\n",
              "      <td>8.601923e+04</td>\n",
              "      <td>50.000000</td>\n",
              "      <td>0.000000</td>\n",
              "      <td>0.000000</td>\n",
              "      <td>13.000000</td>\n",
              "      <td>14.000000</td>\n",
              "      <td>375.000000</td>\n",
              "      <td>0.0</td>\n",
              "      <td>2.000000</td>\n",
              "      <td>1.000000</td>\n",
              "      <td>43.000000</td>\n",
              "      <td>747.000000</td>\n",
              "      <td>151337.25</td>\n",
              "      <td>44910.000000</td>\n",
              "    </tr>\n",
              "    <tr>\n",
              "      <th>max</th>\n",
              "      <td>990.000000</td>\n",
              "      <td>113.978234</td>\n",
              "      <td>0.999973</td>\n",
              "      <td>142.192400</td>\n",
              "      <td>0.900000</td>\n",
              "      <td>35059.600000</td>\n",
              "      <td>60.000000</td>\n",
              "      <td>448269.000000</td>\n",
              "      <td>5.000028e+06</td>\n",
              "      <td>141.000000</td>\n",
              "      <td>5.000000</td>\n",
              "      <td>5.000000</td>\n",
              "      <td>49.000000</td>\n",
              "      <td>49.000000</td>\n",
              "      <td>500.000000</td>\n",
              "      <td>0.0</td>\n",
              "      <td>3.000000</td>\n",
              "      <td>1.000000</td>\n",
              "      <td>59.000000</td>\n",
              "      <td>1000.000000</td>\n",
              "      <td>inf</td>\n",
              "      <td>56000.000000</td>\n",
              "    </tr>\n",
              "  </tbody>\n",
              "</table>\n",
              "</div>"
            ],
            "text/plain": [
              "            score_3       score_4  ...  reported_income  shipping_zip_code\n",
              "count  44438.000000  45000.000000  ...         45000.00       45000.000000\n",
              "mean     347.983258    100.006797  ...              inf       33923.514844\n",
              "std      110.429165      3.178080  ...              NaN       12692.406382\n",
              "min        0.000000     86.191572  ...           403.00       12001.000000\n",
              "25%      270.000000     97.867036  ...         50948.25       22937.000000\n",
              "50%      340.000000    100.018900  ...        101779.00       33896.000000\n",
              "75%      420.000000    102.141797  ...        151337.25       44910.000000\n",
              "max      990.000000    113.978234  ...              inf       56000.000000\n",
              "\n",
              "[8 rows x 22 columns]"
            ]
          },
          "metadata": {
            "tags": []
          },
          "execution_count": 7
        }
      ]
    },
    {
      "cell_type": "code",
      "metadata": {
        "id": "e2Ibrpxgb3DL",
        "colab_type": "code",
        "outputId": "23b1ffef-a418-4769-8fad-69bb7f8d8394",
        "colab": {
          "base_uri": "https://localhost:8080/",
          "height": 782
        }
      },
      "source": [
        "# Count of unique values in each column\n",
        "print (\"Unique Values\")\n",
        "print (df.nunique().sort_values())"
      ],
      "execution_count": 8,
      "outputs": [
        {
          "output_type": "stream",
          "text": [
            "Unique Values\n",
            "external_data_provider_credit_checks_last_2_year        1\n",
            "channel                                                 1\n",
            "target_fraud                                            2\n",
            "target_default                                          2\n",
            "external_data_provider_credit_checks_last_year          2\n",
            "facebook_profile                                        2\n",
            "last_borrowed_in_months                                 2\n",
            "external_data_provider_credit_checks_last_month         4\n",
            "n_defaulted_loans                                       5\n",
            "real_state                                              5\n",
            "email                                                   6\n",
            "n_bankruptcies                                          6\n",
            "score_1                                                 7\n",
            "marketing_channel                                       9\n",
            "shipping_state                                         25\n",
            "score_2                                                35\n",
            "n_issues                                               44\n",
            "n_accounts                                             44\n",
            "state                                                  50\n",
            "external_data_provider_email_seen_before               62\n",
            "risk_rate                                              82\n",
            "score_3                                                88\n",
            "ok_since                                              100\n",
            "user_agent                                            297\n",
            "application_time_in_funnel                            501\n",
            "zip                                                   823\n",
            "external_data_provider_fraud_score                   1001\n",
            "last_amount_borrowed                                14325\n",
            "reason                                              14874\n",
            "credit_limit                                        20928\n",
            "lat_lon                                             22412\n",
            "profile_tags                                        26131\n",
            "shipping_zip_code                                   28263\n",
            "job_name                                            32265\n",
            "external_data_provider_first_name                   32886\n",
            "application_time_applied                            35543\n",
            "reported_income                                     40025\n",
            "income                                              41211\n",
            "score_4                                             45000\n",
            "score_5                                             45000\n",
            "score_6                                             45000\n",
            "profile_phone_number                                45000\n",
            "ids                                                 45000\n",
            "dtype: int64\n"
          ],
          "name": "stdout"
        }
      ]
    },
    {
      "cell_type": "markdown",
      "metadata": {
        "id": "pX9MwM9wcWce",
        "colab_type": "text"
      },
      "source": [
        "*  `external_data_provider_credit_checks_last_2_year` and `channel` has only 1 value possible which does not gives us any insight.\n",
        "\n",
        "* `state` has 50 diferent values, since Brazil has 26 states plus the Federal District we can assume that some entries is from outside Brazil.\n",
        "\n",
        "* `shipping_state` we are going to confirm if it's only from Brazilian states since is 25 diferents entries as mentioned before Brazil has 26 states.\n",
        "\n",
        "* `profile_phone_number` has all entries unique, that does not bring us any insight that can contribute to our analysis."
      ]
    },
    {
      "cell_type": "code",
      "metadata": {
        "id": "esh_MfKRcNuO",
        "colab_type": "code",
        "outputId": "02b68f73-e08d-4dd4-c7f7-d7a77188c73e",
        "colab": {
          "base_uri": "https://localhost:8080/",
          "height": 459
        }
      },
      "source": [
        "# Checking our shipping_state\n",
        "df.shipping_state.value_counts()"
      ],
      "execution_count": 9,
      "outputs": [
        {
          "output_type": "execute_result",
          "data": {
            "text/plain": [
              "BR-SP    6994\n",
              "BR-AM    4037\n",
              "BR-BA    2780\n",
              "BR-GO    2634\n",
              "BR-RR    1610\n",
              "BR-MG    1527\n",
              "BR-SE    1410\n",
              "BR-DF    1402\n",
              "BR-MA    1388\n",
              "BR-RO    1371\n",
              "BR-TO    1363\n",
              "BR-PR    1359\n",
              "BR-MS    1354\n",
              "BR-RS    1352\n",
              "BR-AP    1329\n",
              "BR-PA    1326\n",
              "BR-AC    1319\n",
              "BR-AL    1318\n",
              "BR-SC    1311\n",
              "BR-PE    1309\n",
              "BR-PB    1308\n",
              "BR-RN    1307\n",
              "BR-MT    1302\n",
              "BR-CE    1301\n",
              "BR-ES    1289\n",
              "Name: shipping_state, dtype: int64"
            ]
          },
          "metadata": {
            "tags": []
          },
          "execution_count": 9
        }
      ]
    },
    {
      "cell_type": "markdown",
      "metadata": {
        "id": "A9BeJw8AhKCw",
        "colab_type": "text"
      },
      "source": [
        "We dont have in `shipping_states` column the Brazilian states Piaui (Pi) and Rio de Janeiro (RJ). This columns is about where the **NuBank** will send the credit card if the applicant got approved.\n",
        "\n",
        "It is kind strange not having Rio de Janeiro state in our data, since Rio de Janeiro over the years it has achieved an extraordinary population increase and is currently the third most populous state in Brazil.\n",
        "\n",
        "The state of Sao Paulo (SP) is the most with `shipping_state` entries followed by the state of Amazonas (AM) and Espirito Santo (ES) is the state with lower entries."
      ]
    },
    {
      "cell_type": "markdown",
      "metadata": {
        "id": "1CZlNddajsy7",
        "colab_type": "text"
      },
      "source": [
        "### Variable target\n",
        "\n",
        "Since we eliminated the possibilities of our column `target_fraud` being our target variable we are going to inspect the column `target_default` to see how balance our column is and check how many null values we have."
      ]
    },
    {
      "cell_type": "code",
      "metadata": {
        "id": "0Z8kavcifhTp",
        "colab_type": "code",
        "outputId": "b58e54e6-a901-41fd-8232-f8311cd40179",
        "colab": {
          "base_uri": "https://localhost:8080/",
          "height": 470
        }
      },
      "source": [
        "# plot bar chart showing number class types\n",
        "# gera grafico de barra mostrando numero fraudes\n",
        "\n",
        "fig, ax = plt.subplots(figsize=(5,4))\n",
        "name = [ \"False\",\" True\"]\n",
        "ax = df.target_default.value_counts().plot(kind = 'bar', grid = False , color = 'grey')\n",
        "ax.spines['top'].set_visible(False)\n",
        "ax.spines['right'].set_visible(False)\n",
        "ax.spines['bottom'].set_visible(False)\n",
        "ax.set_title(\"True represents only 14,8% of the dataset\", fontsize = 10, loc='left')\n",
        "ax.set_xticklabels (name, rotation = 0)\n",
        "\n",
        "plt.suptitle(\"\\n\\nNUMBER OF DEFAULTS\\n\\n\",weight = 'bold', x=0.33,y=1.15)\n",
        "plt.tight_layout();\n",
        "fig = ax.get_figure()\n",
        "fig.savefig('target_default.pdf')\n",
        "print(\"Number of defaults\")\n",
        "print(df.target_default.value_counts())\n",
        "print(\"\\nTrue = {:.4f}% of the dataset\".format((df[df.target_default == True].shape[0] / df.shape[0]) * 100))\n",
        "print(\"False = {:.4f}% of the dataset\".format((df[df.target_default == False].shape[0] / df.shape[0]) * 100))"
      ],
      "execution_count": 10,
      "outputs": [
        {
          "output_type": "stream",
          "text": [
            "Number of defaults\n",
            "False    35080\n",
            "True      6661\n",
            "Name: target_default, dtype: int64\n",
            "\n",
            "True = 14.8022% of the dataset\n",
            "False = 77.9556% of the dataset\n"
          ],
          "name": "stdout"
        },
        {
          "output_type": "display_data",
          "data": {
            "image/png": "[encoded data removed]",
            "text/plain": [
              "<Figure size 360x288 with 1 Axes>"
            ]
          },
          "metadata": {
            "tags": [],
            "needs_background": "light"
          }
        }
      ]
    },
    {
      "cell_type": "markdown",
      "metadata": {
        "id": "OvjLCTfDn7m8",
        "colab_type": "text"
      },
      "source": [
        "Having a look at our variable target called  `target_default`  we notice that out dataset is unbalanced, this is going to be a problem that will need to be addressed depending on our machine learning model selection. If this problem is not addressed our machine learning model will give us poor results."
      ]
    },
    {
      "cell_type": "markdown",
      "metadata": {
        "id": "RHAqgGrpsw5t",
        "colab_type": "text"
      },
      "source": [
        "# Preparing the data\n",
        "\n",
        "Following the information provided before, we are going to do this steps:\n",
        "\n",
        "* Change `inf` to `NaN` in our column `reported_income`\n",
        "\n",
        "* Change -999 in `external_data_provider_email_seen_before` to `NaN`\n",
        "\n",
        "* Drop columns `ids`, `target_fraud`, `external_data_provider_credit_checks_last_2_year` and `channel`\n",
        "\n",
        "* Drop columns that provides no info or demand more research\n",
        "\n",
        "* Drop rows in our column `target_default` that is `NaN`\n"
      ]
    },
    {
      "cell_type": "code",
      "metadata": {
        "id": "pL7Ie3UToEU0",
        "colab_type": "code",
        "colab": {}
      },
      "source": [
        "# creating a copy of the dataframe\n",
        "df_clean = df.copy()\n",
        "\n",
        "# drop colums \n",
        "columns_remove = ['reason', 'zip', 'job_name', 'external_data_provider_first_name',\n",
        "                  'lat_lon', 'shipping_zip_code', 'user_agent', 'profile_tags',\n",
        "                  'application_time_applied', 'email', 'marketing_channel',\n",
        "                  'profile_phone_number', 'shipping_state','ids', 'target_fraud',\n",
        "                  'external_data_provider_credit_checks_last_2_year','channel']\n",
        "                  \n",
        "df_clean.drop(labels=columns_remove, axis=1, inplace=True)"
      ],
      "execution_count": 0,
      "outputs": []
    },
    {
      "cell_type": "code",
      "metadata": {
        "id": "ikOn4DSBxHIE",
        "colab_type": "code",
        "colab": {}
      },
      "source": [
        "# changing inf to nan\n",
        "df_clean['reported_income'] = df_clean['reported_income'].replace(np.inf, np.nan)\n",
        "\n",
        "# changing -999 to nan\n",
        "df_clean['external_data_provider_email_seen_before'] = df_clean['external_data_provider_email_seen_before'].replace(-999.0, np.nan) "
      ],
      "execution_count": 0,
      "outputs": []
    },
    {
      "cell_type": "code",
      "metadata": {
        "id": "YaVJllAjpkku",
        "colab_type": "code",
        "colab": {}
      },
      "source": [
        "# Drop rows null in target_default\n",
        "df_clean.dropna(subset=['target_default'], inplace=True)"
      ],
      "execution_count": 0,
      "outputs": []
    },
    {
      "cell_type": "markdown",
      "metadata": {
        "id": "joRAtCBDz_oB",
        "colab_type": "text"
      },
      "source": [
        "Although there is no more information about the **features**, we can assume that many values ​​are null due to two factors:\n",
        "\n",
        "1.   There are some items that are not mandatory when filling out forms, such as information about the customer's Facebook profile; and\n",
        "\n",
        "2.   There is no observation regarding the column, as in the case of columns `['last_amount_borrowed', 'last_borrowed_in_months', 'n_issues']`.\n",
        "\n",
        "In general, for variables that fall into the second case, NaN values ​​will be replaced by zero. For numerical variables, the median value will be adopted, and for categorical variables, the most frequent value.\n"
      ]
    },
    {
      "cell_type": "code",
      "metadata": {
        "id": "KOZOnqTL-kRe",
        "colab_type": "code",
        "colab": {}
      },
      "source": [
        "# importing the librarie\n",
        "from sklearn.impute import SimpleImputer\n",
        "\n",
        "# chossing variables types\n",
        "num_df = df_clean.select_dtypes(exclude='object').columns\n",
        "cat_df = df_clean.select_dtypes(include='object').columns\n",
        "\n",
        "# Changing null values\n",
        "df_clean.last_amount_borrowed.fillna(value=0, inplace=True)\n",
        "df_clean.last_borrowed_in_months.fillna(value=0, inplace=True)\n",
        "df_clean.n_issues.fillna(value=0, inplace=True)\n",
        "\n",
        "# Numerical variables\n",
        "imputer = SimpleImputer(missing_values=np.nan, strategy='median')\n",
        "imputer = imputer.fit(df_clean.loc[:, num_df])\n",
        "df_clean.loc[:, num_df] = imputer.transform(df_clean.loc[:, num_df])\n",
        "\n",
        "# Categorical Variables\n",
        "imputer = SimpleImputer(missing_values=np.nan, strategy='most_frequent')\n",
        "imputer = imputer.fit(df_clean.loc[:, cat_df])\n",
        "df_clean.loc[:, cat_df] = imputer.transform(df_clean.loc[:, cat_df]) "
      ],
      "execution_count": 0,
      "outputs": []
    },
    {
      "cell_type": "markdown",
      "metadata": {
        "id": "S9s5YTbRG0K6",
        "colab_type": "text"
      },
      "source": [
        "After these steps we can confirm that there is no more missing or null values in our data using pandas atribute `.isnull()` as we can see below."
      ]
    },
    {
      "cell_type": "code",
      "metadata": {
        "id": "qCQ8sKSMEfV6",
        "colab_type": "code",
        "outputId": "7b06e58f-467e-4aa1-c61b-7c08ec868257",
        "colab": {
          "base_uri": "https://localhost:8080/",
          "height": 476
        }
      },
      "source": [
        "df_clean.isnull().sum()"
      ],
      "execution_count": 15,
      "outputs": [
        {
          "output_type": "execute_result",
          "data": {
            "text/plain": [
              "target_default                                     0\n",
              "score_1                                            0\n",
              "score_2                                            0\n",
              "score_3                                            0\n",
              "score_4                                            0\n",
              "score_5                                            0\n",
              "score_6                                            0\n",
              "risk_rate                                          0\n",
              "last_amount_borrowed                               0\n",
              "last_borrowed_in_months                            0\n",
              "credit_limit                                       0\n",
              "income                                             0\n",
              "facebook_profile                                   0\n",
              "state                                              0\n",
              "real_state                                         0\n",
              "ok_since                                           0\n",
              "n_bankruptcies                                     0\n",
              "n_defaulted_loans                                  0\n",
              "n_accounts                                         0\n",
              "n_issues                                           0\n",
              "application_time_in_funnel                         0\n",
              "external_data_provider_credit_checks_last_month    0\n",
              "external_data_provider_credit_checks_last_year     0\n",
              "external_data_provider_email_seen_before           0\n",
              "external_data_provider_fraud_score                 0\n",
              "reported_income                                    0\n",
              "dtype: int64"
            ]
          },
          "metadata": {
            "tags": []
          },
          "execution_count": 15
        }
      ]
    },
    {
      "cell_type": "markdown",
      "metadata": {
        "id": "yA7nEOoIIQb5",
        "colab_type": "text"
      },
      "source": [
        "## Standardization\n",
        "To get better results from our Machine Learnig model we are going to standardize our numerical columns using `StandardScaler` from `Sklearn`"
      ]
    },
    {
      "cell_type": "code",
      "metadata": {
        "id": "H4A8cn1mHk3H",
        "colab_type": "code",
        "colab": {}
      },
      "source": [
        "# importing the librarie\n",
        "from sklearn.preprocessing import StandardScaler\n",
        "df_scaled = df_clean.copy()\n",
        "\n",
        "# normalize the numerical columns\n",
        "scaler = StandardScaler()\n",
        "num_cols = df_scaled.drop('target_default', axis=1).select_dtypes(exclude='object').columns\n",
        "df_scaled[num_cols] = scaler.fit_transform(df_scaled[num_cols].values) "
      ],
      "execution_count": 0,
      "outputs": []
    },
    {
      "cell_type": "markdown",
      "metadata": {
        "id": "tNE6Eq67KnUP",
        "colab_type": "text"
      },
      "source": [
        "## Label Encoding\n",
        "Continuing with the preparation of the data, let's perform Label Encoding to allow categorical variables to be encoded in the form of labels so we can feed the Machine Learning model."
      ]
    },
    {
      "cell_type": "code",
      "metadata": {
        "id": "zOZ7LvauKPqZ",
        "colab_type": "code",
        "colab": {}
      },
      "source": [
        "# importing the librarie\n",
        "from sklearn.preprocessing import LabelEncoder\n",
        "df_encoded = df_scaled.copy()\n",
        "encoder = LabelEncoder()\n",
        "\n",
        "# get the categorical columns\n",
        "cat_cols = df_encoded.select_dtypes(include='object').columns\n",
        "\n",
        "# encode each column selected\n",
        "for col in cat_cols:\n",
        "  df_encoded[col+'_encoded'] = encoder.fit_transform(df_encoded[col])\n",
        "  df_encoded.drop(col, axis=1, inplace=True)"
      ],
      "execution_count": 0,
      "outputs": []
    },
    {
      "cell_type": "code",
      "metadata": {
        "id": "bEt-ik2NrG-W",
        "colab_type": "code",
        "outputId": "ac325757-ee62-40fc-e43a-70a763ee3f07",
        "colab": {
          "base_uri": "https://localhost:8080/",
          "height": 221
        }
      },
      "source": [
        "df_encoded.columns"
      ],
      "execution_count": 18,
      "outputs": [
        {
          "output_type": "execute_result",
          "data": {
            "text/plain": [
              "Index(['target_default', 'score_3', 'score_4', 'score_5', 'score_6',\n",
              "       'risk_rate', 'last_amount_borrowed', 'last_borrowed_in_months',\n",
              "       'credit_limit', 'income', 'facebook_profile', 'ok_since',\n",
              "       'n_bankruptcies', 'n_defaulted_loans', 'n_accounts', 'n_issues',\n",
              "       'application_time_in_funnel',\n",
              "       'external_data_provider_credit_checks_last_month',\n",
              "       'external_data_provider_credit_checks_last_year',\n",
              "       'external_data_provider_email_seen_before',\n",
              "       'external_data_provider_fraud_score', 'reported_income',\n",
              "       'score_1_encoded', 'score_2_encoded', 'state_encoded',\n",
              "       'real_state_encoded'],\n",
              "      dtype='object')"
            ]
          },
          "metadata": {
            "tags": []
          },
          "execution_count": 18
        }
      ]
    },
    {
      "cell_type": "markdown",
      "metadata": {
        "id": "OHDpNDU-PRZ8",
        "colab_type": "text"
      },
      "source": [
        "## Spliting the data\n",
        "\n",
        "Let's split our dataset into data training and data test chossing our `target` variable which is `target_default` and the rest will be our features.\n"
      ]
    },
    {
      "cell_type": "code",
      "metadata": {
        "id": "xSKS2PfXOt_r",
        "colab_type": "code",
        "colab": {}
      },
      "source": [
        "# importing the librarie\n",
        "from sklearn.model_selection import train_test_split as tts\n",
        "\n",
        "# selecting target and features columns\n",
        "coluna_label = 'target_default'\n",
        "coluna_features = ['score_3', 'score_4', 'score_5', 'score_6','risk_rate', 'last_amount_borrowed', 'last_borrowed_in_months',\n",
        "                   'credit_limit', 'income', 'facebook_profile', 'ok_since', 'n_bankruptcies', 'n_defaulted_loans', 'n_accounts', 'n_issues',\n",
        "                   'application_time_in_funnel', 'external_data_provider_credit_checks_last_month',\n",
        "                   'external_data_provider_credit_checks_last_year','external_data_provider_email_seen_before',\n",
        "                   'external_data_provider_fraud_score', 'reported_income','score_1_encoded', 'score_2_encoded', 'state_encoded',\n",
        "                   'real_state_encoded']\n",
        "\n",
        "X = df_encoded[coluna_features].to_numpy()\n",
        "y = df_encoded[coluna_label].to_numpy()\n",
        "\n",
        "# spliting the data in train and test\n",
        "X_train, X_test, y_train, y_test = tts(X, y, shuffle=True,test_size = 0.25)"
      ],
      "execution_count": 0,
      "outputs": []
    },
    {
      "cell_type": "markdown",
      "metadata": {
        "id": "2iGAibhNo961",
        "colab_type": "text"
      },
      "source": [
        "# Recap\n",
        "\n",
        "So far, to get to this point, we did a lot of data manipulation, to get to know our dataset,  this was our steps executed so far: \n",
        "\n",
        "* Exploratory analysis:\n",
        "\n",
        "  * First impressions of the data, getting to know it\n",
        "      \n",
        "      * Dataframe first entries\n",
        "      \n",
        "      * Shape\n",
        "      \n",
        "      * Columns variable type\n",
        "  \n",
        "  * Closer look:\n",
        "      \n",
        "      * Checked for missing values\n",
        "      \n",
        "      * We saw summary statistics\n",
        "      \n",
        "      * We defined our target variable\n",
        "\n",
        "* Preparing the data:\n",
        "\n",
        "  * Removed columns and rows \n",
        "\n",
        "  * Filled missed values with zeros and mean\n",
        "  \n",
        "  * We putted data in the same scale using Standardization\n",
        "  \n",
        "  * Label encoding categorical variables\n",
        "  \n",
        "  * We splitted the data in train and test"
      ]
    },
    {
      "cell_type": "markdown",
      "metadata": {
        "id": "eV8B_OSTegWR",
        "colab_type": "text"
      },
      "source": [
        "# Machine Learning \n",
        "\n",
        "\n"
      ]
    },
    {
      "cell_type": "markdown",
      "metadata": {
        "id": "2mbN8FUn31cK",
        "colab_type": "text"
      },
      "source": [
        "## Balancing the data\n",
        "\n",
        "As we can see our data is unbalacend. About 84% is `False` and only 14% of the data is `True`. We could use a simple way to deal with this problem, using techniques like `under-sampling` or `over-sampling` from `imblearn` library.\n",
        "\n",
        "### SMOTE\n",
        "Over here I used a Synthetic Minority Oversampling Technique (**SMOTE**) just in case if I decided to use other types of Machine Learning, you can find more about it in this article that can be found [here](https://machinelearningmastery.com/smote-oversampling-for-imbalanced-classification/).\n",
        "\n",
        "But since I decide to use XGBoost which is a model suited for imbalaced data, which takes care of unbalced data internally, in the background happening secretly, for now we are not going to use this resampled data."
      ]
    },
    {
      "cell_type": "code",
      "metadata": {
        "id": "BYU7zO-gFIbB",
        "colab_type": "code",
        "outputId": "14a467de-b0bc-4b8a-c13c-650ca4b4b68c",
        "colab": {
          "base_uri": "https://localhost:8080/",
          "height": 299
        }
      },
      "source": [
        "# Oversample and plot imbalanced dataset with SMOTE\n",
        "from collections import Counter\n",
        "from imblearn.over_sampling import SMOTE\n",
        "from matplotlib import pyplot\n",
        "from numpy import where\n",
        "\n",
        "# summarize class distribution\n",
        "counter = Counter(y_train)\n",
        "print(counter)\n",
        "# transform the dataset\n",
        "oversample = SMOTE()\n",
        "X_resampled, y_resampled = oversample.fit_resample(X_train, y_train)\n",
        "# summarize the new class distribution\n",
        "counter = Counter(y_resampled)\n",
        "print(counter)\n",
        "# scatter plot of examples by class label\n",
        "for label, _ in counter.items():\n",
        "\trow_ix = where(y_resampled == label)[0]\n",
        "\tpyplot.scatter(X_resampled[row_ix, 0], X_resampled[row_ix, 1], label=str(label))\n",
        "pyplot.legend()\n",
        "pyplot.show()"
      ],
      "execution_count": 20,
      "outputs": [
        {
          "output_type": "stream",
          "text": [
            "Counter({False: 26262, True: 5043})\n",
            "Counter({False: 26262, True: 26262})\n"
          ],
          "name": "stdout"
        },
        {
          "output_type": "display_data",
          "data": {
            "image/png": "[encoded data removed]",
            "text/plain": [
              "<Figure size 432x288 with 1 Axes>"
            ]
          },
          "metadata": {
            "tags": [],
            "needs_background": "light"
          }
        }
      ]
    },
    {
      "cell_type": "markdown",
      "metadata": {
        "id": "5R2CXnJm4121",
        "colab_type": "text"
      },
      "source": [
        "This is what SMOTE do to the minority label, it matches the quantity of labels from the higher class."
      ]
    },
    {
      "cell_type": "markdown",
      "metadata": {
        "id": "HTMjZveKvfll",
        "colab_type": "text"
      },
      "source": [
        "# Dummy Classifier\n",
        "\n",
        " Before building or **XGBoost** model let's build a dummy classifier model, why?\n",
        "\n",
        "Because **DummyClassifier** is a classifier that makes predictions using simple rules. This classifier is useful as a simple baseline to compare with other (real) classifiers. \n",
        "\n",
        "Documentation can be found [here](https://scikit-learn.org/stable/modules/generated/sklearn.dummy.DummyClassifier.html).  \n"
      ]
    },
    {
      "cell_type": "code",
      "metadata": {
        "id": "Dp3I5SL8XkEX",
        "colab_type": "code",
        "outputId": "f82be5cc-ab22-46d8-9b4a-8ac39884d8f4",
        "colab": {
          "base_uri": "https://localhost:8080/",
          "height": 224
        }
      },
      "source": [
        "# installing librarie\n",
        "!pip install scikit-plot"
      ],
      "execution_count": 21,
      "outputs": [
        {
          "output_type": "stream",
          "text": [
            "Requirement already satisfied: scikit-plot in /usr/local/lib/python3.6/dist-packages (0.3.7)\n",
            "Requirement already satisfied: scikit-learn>=0.18 in /usr/local/lib/python3.6/dist-packages (from scikit-plot) (0.22.2.post1)\n",
            "Requirement already satisfied: joblib>=0.10 in /usr/local/lib/python3.6/dist-packages (from scikit-plot) (0.15.1)\n",
            "Requirement already satisfied: scipy>=0.9 in /usr/local/lib/python3.6/dist-packages (from scikit-plot) (1.4.1)\n",
            "Requirement already satisfied: matplotlib>=1.4.0 in /usr/local/lib/python3.6/dist-packages (from scikit-plot) (3.2.1)\n",
            "Requirement already satisfied: numpy>=1.11.0 in /usr/local/lib/python3.6/dist-packages (from scikit-learn>=0.18->scikit-plot) (1.18.4)\n",
            "Requirement already satisfied: kiwisolver>=1.0.1 in /usr/local/lib/python3.6/dist-packages (from matplotlib>=1.4.0->scikit-plot) (1.2.0)\n",
            "Requirement already satisfied: cycler>=0.10 in /usr/local/lib/python3.6/dist-packages (from matplotlib>=1.4.0->scikit-plot) (0.10.0)\n",
            "Requirement already satisfied: pyparsing!=2.0.4,!=2.1.2,!=2.1.6,>=2.0.1 in /usr/local/lib/python3.6/dist-packages (from matplotlib>=1.4.0->scikit-plot) (2.4.7)\n",
            "Requirement already satisfied: python-dateutil>=2.1 in /usr/local/lib/python3.6/dist-packages (from matplotlib>=1.4.0->scikit-plot) (2.8.1)\n",
            "Requirement already satisfied: six in /usr/local/lib/python3.6/dist-packages (from cycler>=0.10->matplotlib>=1.4.0->scikit-plot) (1.12.0)\n"
          ],
          "name": "stdout"
        }
      ]
    },
    {
      "cell_type": "code",
      "metadata": {
        "id": "tRZdD_RNxV2s",
        "colab_type": "code",
        "outputId": "5638c382-1797-40b2-d9cc-5a59cdfbf39f",
        "colab": {
          "base_uri": "https://localhost:8080/",
          "height": 533
        }
      },
      "source": [
        "# importing the librarie\n",
        "from sklearn.dummy import DummyClassifier\n",
        "from sklearn.metrics import classification_report, matthews_corrcoef\n",
        "import scikitplot as skplt\n",
        "\n",
        "# training or model\n",
        "dummy = DummyClassifier(strategy= 'most_frequent')\n",
        "dummy.fit(X_train, y_train)\n",
        "\n",
        "# testing our model\n",
        "y_dummy = dummy.predict(X_test)\n",
        "\n",
        "# matthews correlation coeficient\n",
        "print('MATTHEWS CORRELATION COEFFICIENT:')\n",
        "print(matthews_corrcoef(y_test, y_dummy),'\\n')\n",
        "\n",
        "# Model Evaluation metrics \n",
        "print('CLASSIFICATION REPORT DUMMY_CLASSIFIER')\n",
        "print(classification_report(y_test, y_dummy))\n",
        "\n",
        "# Dummy Classifier Confusion matrix\n",
        "print(skplt.metrics.plot_confusion_matrix(y_test, y_dummy,  title='Dummy Classifier'))"
      ],
      "execution_count": 22,
      "outputs": [
        {
          "output_type": "stream",
          "text": [
            "MATTHEWS CORRELATION COEFFICIENT:\n",
            "0.0 \n",
            "\n",
            "CLASSIFICATION REPORT DUMMY_CLASSIFIER\n",
            "              precision    recall  f1-score   support\n",
            "\n",
            "       False       0.84      1.00      0.92      8818\n",
            "        True       0.00      0.00      0.00      1618\n",
            "\n",
            "    accuracy                           0.84     10436\n",
            "   macro avg       0.42      0.50      0.46     10436\n",
            "weighted avg       0.71      0.84      0.77     10436\n",
            "\n",
            "AxesSubplot(0.125,0.125;0.62x0.755)\n"
          ],
          "name": "stdout"
        },
        {
          "output_type": "display_data",
          "data": {
            "image/png": "[encoded data removed]",
            "text/plain": [
              "<Figure size 432x288 with 2 Axes>"
            ]
          },
          "metadata": {
            "tags": [],
            "needs_background": "light"
          }
        }
      ]
    },
    {
      "cell_type": "markdown",
      "metadata": {
        "id": "Z5MVBUwd29po",
        "colab_type": "text"
      },
      "source": [
        "One of the metrics that I used called [Matthews correlation coefficient (MCC)](https://en.wikipedia.org/wiki/Matthews_correlation_coefficient) is used in machine learning as a measure of the quality of binary (two-class) classifications.  \n",
        "\n",
        "The MMC ranges between -1 and 1, in our two-class classification, where worst value = −1 and best value = +1. \n",
        "\n",
        "In our `Dummy Classifier` model our MMC was 0 (zero) which is not good enough even with 84% accuracy.\n",
        "\n",
        "Let's remember that `True` label refers to the client that failed to meet the legal obligations and `False` label is basically the opposite.\n",
        "\n",
        "So as we can observe from our confusion matrix our Dummy CLassifier did not predicted any `True` labels that's why in the classification report label `True` is zero for **precision**, **recall**, **f1-score**.\n",
        "\n",
        "Basically our model 84% accuracy did not mean much since it can't predict `True` labels, which is exactly what we want to avoid in our business case. "
      ]
    },
    {
      "cell_type": "markdown",
      "metadata": {
        "id": "lcJP3_pHEWCq",
        "colab_type": "text"
      },
      "source": [
        "# Gradient Boosting\n",
        "\n",
        "I decided to run a Gradient Boosting to see if could predict any `True` labels since our `Dummy Classifier` did not predict any, so we can also use this powerful model as another baseline to compare with `XGBoost`."
      ]
    },
    {
      "cell_type": "code",
      "metadata": {
        "id": "ypw87perEhiq",
        "colab_type": "code",
        "outputId": "5ceceb48-ca66-4462-b24e-35204d3ed1d3",
        "colab": {
          "base_uri": "https://localhost:8080/",
          "height": 533
        }
      },
      "source": [
        "# importing the librarie\n",
        "from sklearn.ensemble.gradient_boosting import GradientBoostingClassifier as GBC \n",
        "\n",
        "# creating our model\n",
        "gbc_model = GBC(random_state=42)\n",
        "\n",
        "# training our model\n",
        "gbc_model.fit(X_resampled, y_resampled)\n",
        "\n",
        "# testing our model\n",
        "y_gbc = gbc_model.predict(X_test)\n",
        "\n",
        "# matthews correlation coeficient\n",
        "print('MATTHEWS CORRELATION COEFFICIENT:')\n",
        "print(matthews_corrcoef(y_test, y_gbc),'\\n')\n",
        "\n",
        "# Model Evaluation metrics \n",
        "print('CLASSIFICATION REPORT GRADIENT BOOST')\n",
        "print(classification_report(y_test, y_gbc))\n",
        "\n",
        "# GBC Confusion matrix\n",
        "print(skplt.metrics.plot_confusion_matrix(y_test, y_gbc, title='GRADIENT BOOST'))\n"
      ],
      "execution_count": 23,
      "outputs": [
        {
          "output_type": "stream",
          "text": [
            "MATTHEWS CORRELATION COEFFICIENT:\n",
            "0.14993675735635845 \n",
            "\n",
            "CLASSIFICATION REPORT GRADIENT BOOST\n",
            "              precision    recall  f1-score   support\n",
            "\n",
            "       False       0.86      0.98      0.91      8818\n",
            "        True       0.43      0.10      0.17      1618\n",
            "\n",
            "    accuracy                           0.84     10436\n",
            "   macro avg       0.64      0.54      0.54     10436\n",
            "weighted avg       0.79      0.84      0.80     10436\n",
            "\n",
            "AxesSubplot(0.125,0.125;0.62x0.755)\n"
          ],
          "name": "stdout"
        },
        {
          "output_type": "display_data",
          "data": {
            "image/png": "[encoded data removed]",
            "text/plain": [
              "<Figure size 432x288 with 2 Axes>"
            ]
          },
          "metadata": {
            "tags": [],
            "needs_background": "light"
          }
        }
      ]
    },
    {
      "cell_type": "markdown",
      "metadata": {
        "id": "XcJstSNk9Ygm",
        "colab_type": "text"
      },
      "source": [
        "Our MMC was about 0,15 a lot better than our Dummy Classifier.\n",
        "\n",
        "Looking at the confusion matrix we can see that this powerful model predicted some `True` labels. It performed with 84% accuracy.\n",
        "\n",
        "But take a look at recall from True labels. The question here is: Of all the clients that truly default, how many did we label? \n",
        "\n",
        "And the answer was only about 0.09 = 9%.\n",
        "\n",
        "For our business case we want to predict more `True` labels correct as possible avoiding default."
      ]
    },
    {
      "cell_type": "markdown",
      "metadata": {
        "id": "wirfCjUymyM9",
        "colab_type": "text"
      },
      "source": [
        "# XGBoost\n",
        "\n",
        "As I mentioned before we are going to use XGBoost to build or classification model. XGboost as it says in its documentation: [\"is an optimized distributed gradient boosting library designed to be highly **efficient**, **flexible** and **portable**.\"](https://xgboost.readthedocs.io/en/latest/index.html).\n",
        "\n",
        "It implements machine learning algorithms under the Gradient Boosting framework. XGBoost provides a parallel tree boosting (also known as GBDT, GBM) that solve many data science problems in a fast and accurate way.\"\n",
        "\n",
        "Before I started to build our `XGBoost` model, in the documentation says when we have unbalanced classes we should use the parameter `scale_pos_weight` which by default is 1.\n",
        "\n",
        "A typical value to consider is : \n",
        "\n",
        "**sum(negative instances) / sum(positive instances)**"
      ]
    },
    {
      "cell_type": "code",
      "metadata": {
        "id": "uy54lstzvyrq",
        "colab_type": "code",
        "outputId": "07995786-d170-4ab5-9bf9-4c7445c2d985",
        "colab": {
          "base_uri": "https://localhost:8080/",
          "height": 34
        }
      },
      "source": [
        "# import librarie\n",
        "from collections import Counter\n",
        "# count examples in each class\n",
        "counter = Counter(y_train)\n",
        "# estimate scale_pos_weight value\n",
        "estimate = counter[0] / counter[1]\n",
        "print('Estimate: %.3f' % estimate)"
      ],
      "execution_count": 24,
      "outputs": [
        {
          "output_type": "stream",
          "text": [
            "Estimate: 5.208\n"
          ],
          "name": "stdout"
        }
      ]
    },
    {
      "cell_type": "markdown",
      "metadata": {
        "id": "EJO4qiHFZx94",
        "colab_type": "text"
      },
      "source": [
        "After  a lot experiment the best value for our `scaled_pos_weight` that I find was 2.5 and this is the value that I'm using to tune the model."
      ]
    },
    {
      "cell_type": "code",
      "metadata": {
        "id": "bI4lqZcZopTB",
        "colab_type": "code",
        "outputId": "c4807874-ab51-44c3-b4b6-5b8ba51fc8ab",
        "colab": {
          "base_uri": "https://localhost:8080/",
          "height": 533
        }
      },
      "source": [
        "# importing the librarie\n",
        "from xgboost import XGBClassifier\n",
        "from sklearn.metrics import matthews_corrcoef\n",
        "\n",
        "# creating our model\n",
        "xgb_model = XGBClassifier(scale_pos_weight=2.5,                          \n",
        "                          random_state=42\n",
        "                          )\n",
        "\n",
        "# training the model\n",
        "xgb_model.fit(X_train, y_train)\n",
        "\n",
        "# testing the model\n",
        "y_xbg = xgb_model.predict(X_test)\n",
        "\n",
        "# matthews correlation coeficient\n",
        "print('MATTHEWS CORRELATION COEFFICIENT:')\n",
        "print(matthews_corrcoef(y_test, y_xbg),'\\n')\n",
        "\n",
        "# Model Evaluation metrics \n",
        "print('CLASSIFICATION REPORT XGBOOST')\n",
        "print(classification_report(y_test,y_xbg))\n",
        "\n",
        "# XGB Confusion matrix\n",
        "print(skplt.metrics.plot_confusion_matrix(y_test, y_xbg, title='XGBOOST CLASSIFIER'))"
      ],
      "execution_count": 25,
      "outputs": [
        {
          "output_type": "stream",
          "text": [
            "MATTHEWS CORRELATION COEFFICIENT:\n",
            "0.23038857283084455 \n",
            "\n",
            "CLASSIFICATION REPORT XGBOOST\n",
            "              precision    recall  f1-score   support\n",
            "\n",
            "       False       0.87      0.92      0.90      8818\n",
            "        True       0.40      0.27      0.32      1618\n",
            "\n",
            "    accuracy                           0.82     10436\n",
            "   macro avg       0.63      0.60      0.61     10436\n",
            "weighted avg       0.80      0.82      0.81     10436\n",
            "\n",
            "AxesSubplot(0.125,0.125;0.62x0.755)\n"
          ],
          "name": "stdout"
        },
        {
          "output_type": "display_data",
          "data": {
            "image/png": "[encoded data removed]",
            "text/plain": [
              "<Figure size 432x288 with 2 Axes>"
            ]
          },
          "metadata": {
            "tags": [],
            "needs_background": "light"
          }
        }
      ]
    },
    {
      "cell_type": "markdown",
      "metadata": {
        "id": "go1K-m_Baw45",
        "colab_type": "text"
      },
      "source": [
        "## Estimators\n",
        "\n",
        "Lest's search for the best estimators"
      ]
    },
    {
      "cell_type": "code",
      "metadata": {
        "id": "k6jGShx_8xEk",
        "colab_type": "code",
        "outputId": "44d41c60-5b45-40be-d9dc-d0f660c3e503",
        "colab": {
          "base_uri": "https://localhost:8080/",
          "height": 483
        }
      },
      "source": [
        "# XGBoost Tune n_estimators\n",
        "from xgboost import XGBClassifier\n",
        "from sklearn.model_selection import GridSearchCV\n",
        "from sklearn.model_selection import StratifiedKFold\n",
        "from sklearn.preprocessing import LabelEncoder\n",
        "import matplotlib\n",
        "matplotlib.use('Agg')\n",
        "from matplotlib import pyplot\n",
        "\n",
        "# grid search\n",
        "model = XGBClassifier(scale_pos_weight=2.5)\n",
        "n_estimators = range(50, 501, 50)\n",
        "param_grid = dict(n_estimators=n_estimators)\n",
        "kfold = StratifiedKFold(n_splits=5, shuffle=True, random_state=42)\n",
        "grid_search = GridSearchCV(model, param_grid, scoring=\"neg_log_loss\", n_jobs=-1, cv=kfold)\n",
        "grid_result = grid_search.fit(X_train, y_train)\n",
        "# summarize results\n",
        "print(\"Best: %f using %s\" % (grid_result.best_score_, grid_result.best_params_))\n",
        "means = grid_result.cv_results_['mean_test_score']\n",
        "stds = grid_result.cv_results_['std_test_score']\n",
        "params = grid_result.cv_results_['params']\n",
        "for mean, stdev, param in zip(means, stds, params):\n",
        "\tprint(\"%f (%f) with: %r\" % (mean, stdev, param))\n",
        "# plot\n",
        "pyplot.errorbar(n_estimators, means, yerr=stds)\n",
        "pyplot.title(\"XGBoost n_estimators vs Log Loss\")\n",
        "pyplot.xlabel('n_estimators')\n",
        "pyplot.ylabel('Log Loss')\n",
        "pyplot.savefig('n_estimators.png')"
      ],
      "execution_count": 26,
      "outputs": [
        {
          "output_type": "stream",
          "text": [
            "Best: -0.456560 using {'n_estimators': 500}\n",
            "-0.462865 (0.002560) with: {'n_estimators': 50}\n",
            "-0.458620 (0.002769) with: {'n_estimators': 100}\n",
            "-0.457876 (0.003079) with: {'n_estimators': 150}\n",
            "-0.457377 (0.003303) with: {'n_estimators': 200}\n",
            "-0.457088 (0.003375) with: {'n_estimators': 250}\n",
            "-0.457043 (0.003225) with: {'n_estimators': 300}\n",
            "-0.456783 (0.003234) with: {'n_estimators': 350}\n",
            "-0.456794 (0.003230) with: {'n_estimators': 400}\n",
            "-0.456586 (0.003410) with: {'n_estimators': 450}\n",
            "-0.456560 (0.003127) with: {'n_estimators': 500}\n"
          ],
          "name": "stdout"
        },
        {
          "output_type": "display_data",
          "data": {
            "image/png": "[encoded data removed]",
            "text/plain": [
              "<Figure size 432x288 with 1 Axes>"
            ]
          },
          "metadata": {
            "tags": [],
            "needs_background": "light"
          }
        }
      ]
    },
    {
      "cell_type": "markdown",
      "metadata": {
        "id": "Tg0I4Cb2bCxb",
        "colab_type": "text"
      },
      "source": [
        "As we can see from the results the best one came from using 500 `n_estimators` but looking at the chart we can see that after 300 we don't see much improvement."
      ]
    },
    {
      "cell_type": "markdown",
      "metadata": {
        "id": "skEO8q3Wb0hI",
        "colab_type": "text"
      },
      "source": [
        "## Max Depth\n",
        "\n",
        "Next parameter to tune is `max_deph` with refers to maximum depth of a tree. We must be careful because increasing too much this value can make the model more complex and more likely to overfit."
      ]
    },
    {
      "cell_type": "code",
      "metadata": {
        "id": "Ub4m8a4ulje1",
        "colab_type": "code",
        "outputId": "fe3c2c87-50f5-4e1e-b96a-37718252683d",
        "colab": {
          "base_uri": "https://localhost:8080/",
          "height": 568
        }
      },
      "source": [
        "# XGBoost Tune max_depth\n",
        "\n",
        "# grid search\n",
        "model = XGBClassifier(scale_pos_weight=2.5,\n",
        "                      n_estimators = 500,\n",
        "                      )\n",
        "max_depth = range(1, 11, 1)\n",
        "print(max_depth)\n",
        "param_grid = dict(max_depth=max_depth)\n",
        "kfold = StratifiedKFold(n_splits=5, shuffle=True, random_state=42)\n",
        "grid_search = GridSearchCV(model, param_grid, scoring=\"neg_log_loss\", n_jobs=-1, cv=kfold, verbose=1)\n",
        "grid_result = grid_search.fit(X_train, y_train)\n",
        "# summarize results\n",
        "print(\"Best: %f using %s\" % (grid_result.best_score_, grid_result.best_params_))\n",
        "means = grid_result.cv_results_['mean_test_score']\n",
        "stds = grid_result.cv_results_['std_test_score']\n",
        "params = grid_result.cv_results_['params']\n",
        "for mean, stdev, param in zip(means, stds, params):\n",
        "\tprint(\"%f (%f) with: %r\" % (mean, stdev, param))\n",
        "# plot\n",
        "pyplot.errorbar(max_depth, means, yerr=stds)\n",
        "pyplot.title(\"XGBoost max_depth vs Log Loss\")\n",
        "pyplot.xlabel('max_depth')\n",
        "pyplot.ylabel('Log Loss')\n",
        "pyplot.savefig('max_depth.png')"
      ],
      "execution_count": 27,
      "outputs": [
        {
          "output_type": "stream",
          "text": [
            "range(1, 11)\n",
            "Fitting 5 folds for each of 10 candidates, totalling 50 fits\n"
          ],
          "name": "stdout"
        },
        {
          "output_type": "stream",
          "text": [
            "[Parallel(n_jobs=-1)]: Using backend LokyBackend with 2 concurrent workers.\n",
            "[Parallel(n_jobs=-1)]: Done  46 tasks      | elapsed: 14.7min\n",
            "[Parallel(n_jobs=-1)]: Done  50 out of  50 | elapsed: 17.0min finished\n"
          ],
          "name": "stderr"
        },
        {
          "output_type": "stream",
          "text": [
            "Best: -0.444396 using {'max_depth': 6}\n",
            "-0.460090 (0.002858) with: {'max_depth': 1}\n",
            "-0.458755 (0.003006) with: {'max_depth': 2}\n",
            "-0.456560 (0.003127) with: {'max_depth': 3}\n",
            "-0.453389 (0.002179) with: {'max_depth': 4}\n",
            "-0.449150 (0.002835) with: {'max_depth': 5}\n",
            "-0.444396 (0.002103) with: {'max_depth': 6}\n",
            "-0.446444 (0.002416) with: {'max_depth': 7}\n",
            "-0.459613 (0.005025) with: {'max_depth': 8}\n",
            "-0.483801 (0.004362) with: {'max_depth': 9}\n",
            "-0.508715 (0.007571) with: {'max_depth': 10}\n"
          ],
          "name": "stdout"
        },
        {
          "output_type": "display_data",
          "data": {
            "image/png": "[encoded data removed]",
            "text/plain": [
              "<Figure size 432x288 with 1 Axes>"
            ]
          },
          "metadata": {
            "tags": [],
            "needs_background": "light"
          }
        }
      ]
    },
    {
      "cell_type": "markdown",
      "metadata": {
        "id": "09M05sPed3Pm",
        "colab_type": "text"
      },
      "source": [
        "By the results the best `max_depht` was 6 and we run the test with 500 `n_estimators`."
      ]
    },
    {
      "cell_type": "markdown",
      "metadata": {
        "id": "Mb_e2_3NeUg8",
        "colab_type": "text"
      },
      "source": [
        "## Estimators and Max Depth\n",
        "\n",
        "Let's run a Grid Search from both parameters together to see the best combination and see the results."
      ]
    },
    {
      "cell_type": "code",
      "metadata": {
        "id": "cKx-6Vkoru7B",
        "colab_type": "code",
        "outputId": "9e765cf9-7d96-4e97-da96-c0bd26fb0eb3",
        "colab": {
          "base_uri": "https://localhost:8080/",
          "height": 688
        }
      },
      "source": [
        "# XGBoost, Tune n_estimators and max_depth\n",
        "\n",
        "# grid search\n",
        "model = XGBClassifier(scale_pos_weight=2.5)\n",
        "n_estimators = [300,400, 500, 500]\n",
        "max_depth = [2, 4, 6, 8]\n",
        "print(max_depth)\n",
        "param_grid = dict(max_depth=max_depth, n_estimators=n_estimators)\n",
        "kfold = StratifiedKFold(n_splits=5, shuffle=True, random_state=7)\n",
        "grid_search = GridSearchCV(model, param_grid, scoring=\"neg_log_loss\", n_jobs=-1, cv=kfold, verbose=1)\n",
        "grid_result = grid_search.fit(X_train, y_train)\n",
        "# summarize results\n",
        "print(\"\\n\\nBest: %f using %s\" % (grid_result.best_score_, grid_result.best_params_))\n",
        "means = grid_result.cv_results_['mean_test_score']\n",
        "stds = grid_result.cv_results_['std_test_score']\n",
        "params = grid_result.cv_results_['params']\n",
        "for mean, stdev, param in zip(means, stds, params):\n",
        "\tprint(\"%f (%f) with: %r\" % (mean, stdev, param))\n",
        "# plot results\n",
        "scores = np.array(means).reshape(len(max_depth), len(n_estimators))\n",
        "for i, value in enumerate(max_depth):\n",
        "    pyplot.plot(n_estimators, scores[i], label='depth: ' + str(value))\n",
        "pyplot.legend()\n",
        "pyplot.xlabel('n_estimators')\n",
        "pyplot.ylabel('Log Loss')\n",
        "pyplot.savefig('n_estimators_vs_max_depth.png')"
      ],
      "execution_count": 28,
      "outputs": [
        {
          "output_type": "stream",
          "text": [
            "[2, 4, 6, 8]\n",
            "Fitting 5 folds for each of 16 candidates, totalling 80 fits\n"
          ],
          "name": "stdout"
        },
        {
          "output_type": "stream",
          "text": [
            "[Parallel(n_jobs=-1)]: Using backend LokyBackend with 2 concurrent workers.\n",
            "[Parallel(n_jobs=-1)]: Done  46 tasks      | elapsed:  7.4min\n",
            "[Parallel(n_jobs=-1)]: Done  80 out of  80 | elapsed: 20.4min finished\n"
          ],
          "name": "stderr"
        },
        {
          "output_type": "stream",
          "text": [
            "\n",
            "\n",
            "Best: -0.438937 using {'max_depth': 8, 'n_estimators': 300}\n",
            "-0.457954 (0.002920) with: {'max_depth': 2, 'n_estimators': 300}\n",
            "-0.457861 (0.003036) with: {'max_depth': 2, 'n_estimators': 400}\n",
            "-0.457841 (0.003146) with: {'max_depth': 2, 'n_estimators': 500}\n",
            "-0.457841 (0.003146) with: {'max_depth': 2, 'n_estimators': 500}\n",
            "-0.453448 (0.001630) with: {'max_depth': 4, 'n_estimators': 300}\n",
            "-0.452105 (0.001771) with: {'max_depth': 4, 'n_estimators': 400}\n",
            "-0.451240 (0.002047) with: {'max_depth': 4, 'n_estimators': 500}\n",
            "-0.451240 (0.002047) with: {'max_depth': 4, 'n_estimators': 500}\n",
            "-0.444069 (0.001722) with: {'max_depth': 6, 'n_estimators': 300}\n",
            "-0.442666 (0.002345) with: {'max_depth': 6, 'n_estimators': 400}\n",
            "-0.442514 (0.003183) with: {'max_depth': 6, 'n_estimators': 500}\n",
            "-0.442514 (0.003183) with: {'max_depth': 6, 'n_estimators': 500}\n",
            "-0.438937 (0.002710) with: {'max_depth': 8, 'n_estimators': 300}\n",
            "-0.446119 (0.002793) with: {'max_depth': 8, 'n_estimators': 400}\n",
            "-0.457012 (0.002938) with: {'max_depth': 8, 'n_estimators': 500}\n",
            "-0.457012 (0.002938) with: {'max_depth': 8, 'n_estimators': 500}\n"
          ],
          "name": "stdout"
        },
        {
          "output_type": "display_data",
          "data": {
            "image/png": "[encoded data removed]",
            "text/plain": [
              "<Figure size 432x288 with 1 Axes>"
            ]
          },
          "metadata": {
            "tags": [],
            "needs_background": "light"
          }
        }
      ]
    },
    {
      "cell_type": "markdown",
      "metadata": {
        "id": "kX7uKQ1AezmP",
        "colab_type": "text"
      },
      "source": [
        "Our model ran 80 fits and the best combination was:\n",
        "\n",
        "* `n_estimators`: 300\n",
        "* `max_depth`: 8\n",
        "* `scale_pos_weight`: 2,5\n",
        "\n",
        "Based in this parameters let's run a final Grid Search for other parameters and build our final mod"
      ]
    },
    {
      "cell_type": "markdown",
      "metadata": {
        "id": "mDqVXqRUheHI",
        "colab_type": "text"
      },
      "source": [
        "## Final model with Grid Search\n",
        "\n",
        "After that search let's build our final model using Grid Search and 5 kFold to validate our model."
      ]
    },
    {
      "cell_type": "code",
      "metadata": {
        "id": "41advqfUIzyg",
        "colab_type": "code",
        "colab": {
          "base_uri": "https://localhost:8080/",
          "height": 85
        },
        "outputId": "c76662bd-463c-4c9c-e0b0-4eba9e25c4d2"
      },
      "source": [
        "# Libraries\n",
        "from sklearn.feature_selection import SelectKBest\n",
        "from sklearn.model_selection import KFold, GridSearchCV\n",
        "from sklearn.metrics import accuracy_score, make_scorer\n",
        "\n",
        "# Create model\n",
        "xgb_model = XGBClassifier(n_estimators=300, \n",
        "                          scale_pos_weight=2.7,\n",
        "                          max_depth=8)\n",
        "\n",
        "# Define our search space for grid search\n",
        "search_space = [{'learning_rate': [0.001,0.01, 0.1, 0.2],\n",
        "                 'colsample_bytree': [i/10.0 for i in range(1, 3)],\n",
        "                 'gamma': [i/10.0 for i in range(3)],\n",
        "                 'k': [10]}]\n",
        "\n",
        "# Define cross validation\n",
        "kfold = KFold(n_splits=5, random_state=42)\n",
        "\n",
        "# AUC and accuracy as score\n",
        "scoring = {'AUC':'roc_auc', 'Accuracy':make_scorer(accuracy_score)}\n",
        "\n",
        "# Define grid search\n",
        "grid = GridSearchCV(xgb_model,\n",
        "                    param_grid=search_space,\n",
        "                    cv=kfold,\n",
        "                    scoring=scoring,\n",
        "                    refit='AUC',\n",
        "                    verbose=1,\n",
        "                    n_jobs=-1)\n",
        "\n",
        "# Fit grid search\n",
        "model_final = grid.fit(X_train, y_train)"
      ],
      "execution_count": 29,
      "outputs": [
        {
          "output_type": "stream",
          "text": [
            "Fitting 5 folds for each of 24 candidates, totalling 120 fits\n"
          ],
          "name": "stdout"
        },
        {
          "output_type": "stream",
          "text": [
            "[Parallel(n_jobs=-1)]: Using backend LokyBackend with 2 concurrent workers.\n",
            "[Parallel(n_jobs=-1)]: Done  46 tasks      | elapsed:  2.9min\n",
            "[Parallel(n_jobs=-1)]: Done 120 out of 120 | elapsed:  9.9min finished\n"
          ],
          "name": "stderr"
        }
      ]
    },
    {
      "cell_type": "code",
      "metadata": {
        "id": "Pfq6JPLcM5NH",
        "colab_type": "code",
        "outputId": "24988546-2988-44c0-867d-f09a81c8dd96",
        "colab": {
          "base_uri": "https://localhost:8080/",
          "height": 618
        }
      },
      "source": [
        "# predictions from best model\n",
        "predict = model_final.predict(X_test)\n",
        "\n",
        "# show metrics the results\n",
        "print('Metrics results from best XGBoost Model')\n",
        "print('---------------------------------------\\n')\n",
        "\n",
        "# show best parameters\n",
        "print(model_final.best_params_, '\\n')\n",
        "\n",
        "# matthews correlation coeficient\n",
        "print('MATTHEWS CORRELATION COEFFICIENT:')\n",
        "print(matthews_corrcoef(y_test, predict),'\\n')\n",
        "\n",
        "# Model Evaluation metrics \n",
        "print('CLASSIFICATION REPORT XGBOOST')\n",
        "print(classification_report(y_test, predict))\n",
        "\n",
        "# XGB Confusion matrix\n",
        "print(skplt.metrics.plot_confusion_matrix(y_test, predict, title='XGBOOST CLASSIFIER'))"
      ],
      "execution_count": 30,
      "outputs": [
        {
          "output_type": "stream",
          "text": [
            "Metrics results from best XGBoost Model\n",
            "---------------------------------------\n",
            "\n",
            "{'colsample_bytree': 0.2, 'gamma': 0.1, 'k': 10, 'learning_rate': 0.01} \n",
            "\n",
            "MATTHEWS CORRELATION COEFFICIENT:\n",
            "0.18739544279752118 \n",
            "\n",
            "CLASSIFICATION REPORT XGBOOST\n",
            "              precision    recall  f1-score   support\n",
            "\n",
            "       False       0.86      0.98      0.91      8818\n",
            "        True       0.50      0.12      0.19      1618\n",
            "\n",
            "    accuracy                           0.84     10436\n",
            "   macro avg       0.68      0.55      0.55     10436\n",
            "weighted avg       0.80      0.84      0.80     10436\n",
            "\n",
            "AxesSubplot(0.125,0.125;0.62x0.755)\n"
          ],
          "name": "stdout"
        },
        {
          "output_type": "display_data",
          "data": {
            "image/png": "[encoded data removed]",
            "text/plain": [
              "<Figure size 432x288 with 2 Axes>"
            ]
          },
          "metadata": {
            "tags": [],
            "needs_background": "light"
          }
        }
      ]
    },
    {
      "cell_type": "markdown",
      "metadata": {
        "id": "9hG0DuTcw-ny",
        "colab_type": "text"
      },
      "source": [
        "As we can see from the results our model has had basically the same accuracy but we have improved the other metrics for `true` label which is great for our business point of view."
      ]
    },
    {
      "cell_type": "markdown",
      "metadata": {
        "id": "M_p9lWW0jhMN",
        "colab_type": "text"
      },
      "source": [
        "# Conclusion \n",
        "\n",
        "Since we did not have any explanation or documentation about our data set we were able to create a algorithm with great performance. \n",
        "\n",
        "We can see that using only the accuracy as metrics can make us take wrong decisions about the model that will be put into production.\n",
        "\n",
        "The Machine learning can be improved having more data or using [`Feature engineering`](https://en.wikipedia.org/wiki/Feature_engineering)."
      ]
    }
  ]
}